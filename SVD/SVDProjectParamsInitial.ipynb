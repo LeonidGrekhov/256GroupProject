{
 "cells": [
  {
   "cell_type": "code",
   "execution_count": null,
   "id": "53c6f349",
   "metadata": {},
   "outputs": [],
   "source": [
    "import pandas as pd\n",
    "import numpy as np\n",
    "from sklearn.model_selection import train_test_split\n",
    "import datasets\n",
    "\n",
    "from surprise import SVD\n",
    "from surprise import SVDpp\n",
    "from surprise.accuracy import rmse, mae, fcp\n",
    "from surprise import Reader\n",
    "from surprise import Dataset\n",
    "from surprise.model_selection import PredefinedKFold\n",
    "from surprise.model_selection import GridSearchCV"
   ]
  },
  {
   "cell_type": "code",
   "execution_count": null,
   "id": "ea445544",
   "metadata": {},
   "outputs": [],
   "source": [
    "#pip install scikit-surprise"
   ]
  },
  {
   "cell_type": "code",
   "execution_count": null,
   "id": "e5432150",
   "metadata": {},
   "outputs": [],
   "source": [
    "#pip install datasets"
   ]
  },
  {
   "cell_type": "code",
   "execution_count": null,
   "id": "6d66df3e",
   "metadata": {},
   "outputs": [],
   "source": [
    "from datasets import load_dataset\n",
    "\n",
    "dataset = load_dataset(\"amazon_us_reviews\", 'Books_v1_00')"
   ]
  },
  {
   "cell_type": "code",
   "execution_count": null,
   "id": "cb14e132",
   "metadata": {},
   "outputs": [],
   "source": [
    "df = pd.DataFrame(dataset['train']['marketplace'])\n",
    "df['customer_id'] = dataset['train']['customer_id']\n",
    "df['review_id'] = dataset['train']['review_id']\n",
    "df['product_id'] = dataset['train']['product_id']\n",
    "df['product_parent'] = dataset['train']['product_parent']\n",
    "df['product_title'] = dataset['train']['product_title']\n",
    "df['star_rating'] = dataset['train']['star_rating']\n",
    "df['product_category'] = dataset['train']['product_category']\n",
    "df['helpful_votes'] = dataset['train']['helpful_votes']\n",
    "df['total_votes'] = dataset['train']['total_votes']\n",
    "df['vine'] = dataset['train']['vine']\n",
    "df['verified_purchase'] = dataset['train']['verified_purchase']\n",
    "df['review_headline'] = dataset['train']['review_headline']\n",
    "df['review_body'] = dataset['train']['review_body']\n",
    "df['review_date'] = dataset['train']['review_date']\n"
   ]
  },
  {
   "cell_type": "code",
   "execution_count": null,
   "id": "2e0a9037",
   "metadata": {},
   "outputs": [],
   "source": [
    "#df"
   ]
  },
  {
   "cell_type": "code",
   "execution_count": null,
   "id": "4524fc4a",
   "metadata": {},
   "outputs": [],
   "source": [
    "newDf = df[['customer_id', 'product_id', 'star_rating']].copy()"
   ]
  },
  {
   "cell_type": "code",
   "execution_count": null,
   "id": "91365127",
   "metadata": {},
   "outputs": [],
   "source": [
    "newDf"
   ]
  },
  {
   "cell_type": "code",
   "execution_count": null,
   "id": "9521c1ea",
   "metadata": {},
   "outputs": [],
   "source": [
    "reader = Reader(rating_scale=(1, 5))\n",
    "data = Dataset.load_from_df(newDf[['customer_id', 'product_id', 'star_rating']], reader)"
   ]
  },
  {
   "cell_type": "code",
   "execution_count": null,
   "id": "4f247f8a",
   "metadata": {},
   "outputs": [],
   "source": [
    "del dataset\n",
    "del df"
   ]
  },
  {
   "cell_type": "code",
   "execution_count": null,
   "id": "8e032d5c",
   "metadata": {},
   "outputs": [],
   "source": [
    "param_grid = {'n_factors': [5,10],\n",
    "              'n_epochs': [5,10],\n",
    "              'lr_all': [0.005,0.5],\n",
    "              'reg_all': [0.02]\n",
    "             }"
   ]
  },
  {
   "cell_type": "code",
   "execution_count": null,
   "id": "3c59e916",
   "metadata": {},
   "outputs": [],
   "source": [
    "grid_search = GridSearchCV(SVD, param_grid, measures=['RMSE'], cv=10, n_jobs=-1)\n"
   ]
  },
  {
   "cell_type": "code",
   "execution_count": null,
   "id": "6dbd1d61",
   "metadata": {},
   "outputs": [],
   "source": [
    "grid_search.fit(data)"
   ]
  },
  {
   "cell_type": "code",
   "execution_count": null,
   "id": "b9ecb805",
   "metadata": {},
   "outputs": [],
   "source": [
    "print(grid_search.best_score['rmse'])\n",
    "print(grid_search.best_params)"
   ]
  },
  {
   "cell_type": "code",
   "execution_count": 1,
   "id": "49eea012",
   "metadata": {},
   "outputs": [],
   "source": [
    "#Params chosen as best:\n",
    "#'n_factors': 5,\n",
    "#'n_epochs': 10,\n",
    "#'lr_all': 0.005,\n",
    "#'reg_all': 0.02 \n"
   ]
  },
  {
   "cell_type": "code",
   "execution_count": null,
   "id": "a6dc7539",
   "metadata": {},
   "outputs": [],
   "source": [
    "%%time\n",
    "trainset=data.build_full_trainset()"
   ]
  },
  {
   "cell_type": "code",
   "execution_count": null,
   "id": "37b1da86",
   "metadata": {},
   "outputs": [],
   "source": [
    "algo=grid_search.best_estimator['rmse']\n",
    "#using the best parameters given from grid search"
   ]
  },
  {
   "cell_type": "code",
   "execution_count": null,
   "id": "1452922b",
   "metadata": {},
   "outputs": [],
   "source": [
    "%%time\n",
    "algo.fit(trainset)\n",
    "#training the dataset on the model"
   ]
  },
  {
   "cell_type": "code",
   "execution_count": null,
   "id": "a601c42b",
   "metadata": {},
   "outputs": [],
   "source": [
    "%%time\n",
    "testset=trainset.build_testset()\n",
    "#builds testset from trainset"
   ]
  },
  {
   "cell_type": "code",
   "execution_count": null,
   "id": "be3b276b",
   "metadata": {},
   "outputs": [],
   "source": [
    "%%time\n",
    "predictions=algo.test(testset)\n",
    "#predicting from model"
   ]
  },
  {
   "cell_type": "code",
   "execution_count": null,
   "id": "35a3568b",
   "metadata": {},
   "outputs": [],
   "source": [
    "%%time\n",
    "rmse(predictions)\n",
    "\n",
    "#RMSE Score: 0.8817"
   ]
  },
  {
   "cell_type": "code",
   "execution_count": null,
   "id": "f87fcf93",
   "metadata": {},
   "outputs": [],
   "source": [
    "mae(predictions)\n",
    "\n",
    "#MAE Score: 0.6262"
   ]
  },
  {
   "cell_type": "code",
   "execution_count": null,
   "id": "97cea13b",
   "metadata": {},
   "outputs": [],
   "source": [
    "fcp(predictions)\n",
    "\n",
    "#FCP Score: 0.6184"
   ]
  },
  {
   "cell_type": "code",
   "execution_count": null,
   "id": "32d13779",
   "metadata": {},
   "outputs": [],
   "source": []
  }
 ],
 "metadata": {
  "kernelspec": {
   "display_name": "Python 3 (ipykernel)",
   "language": "python",
   "name": "python3"
  },
  "language_info": {
   "codemirror_mode": {
    "name": "ipython",
    "version": 3
   },
   "file_extension": ".py",
   "mimetype": "text/x-python",
   "name": "python",
   "nbconvert_exporter": "python",
   "pygments_lexer": "ipython3",
   "version": "3.9.7"
  }
 },
 "nbformat": 4,
 "nbformat_minor": 5
}
