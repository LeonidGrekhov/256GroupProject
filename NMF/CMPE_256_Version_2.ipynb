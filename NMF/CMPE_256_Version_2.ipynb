{
 "cells": [
  {
   "cell_type": "code",
   "execution_count": 1,
   "id": "019d8ccb",
   "metadata": {},
   "outputs": [],
   "source": [
    "import pandas as pd\n",
    "import numpy as np\n",
    "from surprise import Dataset\n",
    "from surprise import Reader\n",
    "from surprise import NMF\n",
    "from surprise.model_selection import cross_validate, GridSearchCV"
   ]
  },
  {
   "cell_type": "code",
   "execution_count": null,
   "id": "b036c129",
   "metadata": {},
   "outputs": [],
   "source": [
    "from datasets import load_dataset\n",
    "\n",
    "dataset = load_dataset(\"amazon_us_reviews\",\"Books_v1_00\")"
   ]
  },
  {
   "cell_type": "code",
   "execution_count": null,
   "id": "5d675b56",
   "metadata": {},
   "outputs": [],
   "source": [
    "df = pd.DataFrame(dataset['train']['customer_id'])\n",
    "df['product_id'] = dataset['train']['product_id']\n",
    "df['star_rating'] = dataset['train']['star_rating']\n",
    "df"
   ]
  },
  {
   "cell_type": "code",
   "execution_count": null,
   "id": "2b9b61cf",
   "metadata": {},
   "outputs": [],
   "source": [
    "df = df.rename(columns={0:\"customer_id\"})"
   ]
  },
  {
   "cell_type": "code",
   "execution_count": null,
   "id": "59bcfa33",
   "metadata": {},
   "outputs": [],
   "source": [
    "reader = Reader(rating_scale=(1,5))\n",
    "data = Dataset.load_from_df(df[['customer_id','product_id','star_rating']],reader)"
   ]
  },
  {
   "cell_type": "code",
   "execution_count": null,
   "id": "a46f27e3",
   "metadata": {},
   "outputs": [],
   "source": [
    "%%time\n",
    "trainset=data.build_full_trainset()"
   ]
  },
  {
   "cell_type": "code",
   "execution_count": null,
   "id": "631efe8e",
   "metadata": {},
   "outputs": [],
   "source": [
    "%%time\n",
    "testset = trainset.build_testset()"
   ]
  },
  {
   "cell_type": "code",
   "execution_count": null,
   "id": "10a8791b",
   "metadata": {},
   "outputs": [],
   "source": [
    "param_grid = {'n_factors': [1,2,3,4,5,6,7,8,9,10]}\n",
    "gs = GridSearchCV(NMF, param_grid, measures=['rmse'], cv=5)\n",
    "gs.fit(data)\n",
    "\n",
    "print(gs.best_score['rmse'])\n",
    "\n",
    "print(gs.best_params['rmse'])"
   ]
  },
  {
   "cell_type": "markdown",
   "id": "eabe06b7",
   "metadata": {},
   "source": [
    "model = NMF(n_facors = #enter value from gs) "
   ]
  },
  {
   "cell_type": "code",
   "execution_count": null,
   "id": "610f94b7",
   "metadata": {},
   "outputs": [],
   "source": [
    "%%time\n",
    "model.fit(trainset)"
   ]
  },
  {
   "cell_type": "code",
   "execution_count": null,
   "id": "41866df9",
   "metadata": {},
   "outputs": [],
   "source": [
    "pred = model.test(testset)"
   ]
  },
  {
   "cell_type": "code",
   "execution_count": null,
   "id": "92db1114",
   "metadata": {},
   "outputs": [],
   "source": [
    "accuracy.rmse(pred)"
   ]
  }
 ],
 "metadata": {
  "kernelspec": {
   "display_name": "Python 3",
   "language": "python",
   "name": "python3"
  },
  "language_info": {
   "codemirror_mode": {
    "name": "ipython",
    "version": 3
   },
   "file_extension": ".py",
   "mimetype": "text/x-python",
   "name": "python",
   "nbconvert_exporter": "python",
   "pygments_lexer": "ipython3",
   "version": "3.8.8"
  }
 },
 "nbformat": 4,
 "nbformat_minor": 5
}
